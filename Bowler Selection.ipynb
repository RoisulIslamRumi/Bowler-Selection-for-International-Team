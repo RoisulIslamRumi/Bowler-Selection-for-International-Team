{
 "cells": [
  {
   "cell_type": "code",
   "execution_count": 136,
   "metadata": {},
   "outputs": [],
   "source": [
    "import pandas as pd\n",
    "import numpy as np\n",
    "import seaborn as sns\n",
    "import matplotlib.pyplot as plt\n",
    "%matplotlib inline\n",
    "import warnings\n",
    "warnings.filterwarnings(\"ignore\")\n",
    "from sklearn.model_selection import train_test_split\n",
    "from sklearn.linear_model import LogisticRegression\n",
    "from sklearn import tree\n",
    "from sklearn.svm import SVC  \n",
    "from sklearn.metrics import accuracy_score\n",
    "from sklearn.metrics import confusion_matrix,classification_report\n",
    "from sklearn.metrics import roc_curve, auc"
   ]
  },
  {
   "cell_type": "code",
   "execution_count": 137,
   "metadata": {},
   "outputs": [
    {
     "data": {
      "text/plain": [
       "((24, 80), (37, 80))"
      ]
     },
     "execution_count": 137,
     "metadata": {},
     "output_type": "execute_result"
    }
   ],
   "source": [
    "train = pd.read_excel(\"international Bowler.xlsx\")\n",
    "test = pd.read_excel(\"bowler dataset.xlsx\")\n",
    "temp = pd.read_excel(\"bowler dataset1.xlsx\")\n",
    "name = temp.Name\n",
    "train.shape,test.shape"
   ]
  },
  {
   "cell_type": "code",
   "execution_count": 138,
   "metadata": {},
   "outputs": [
    {
     "data": {
      "text/plain": [
       "0          Sanzmul Islam (AL)\n",
       "1            Taskin Ahmed(AL)\n",
       "2      Mehidy Hasan Miraz(AL)\n",
       "3              Sandip Roy(AL)\n",
       "4         Mohhamad Shahid(LR)\n",
       "5              Asif Hasan(LR)\n",
       "6        Mosarraf Hossain(LR)\n",
       "7              Syed Rasel(LR)\n",
       "8          Tanvir Islam(KSKS)\n",
       "9       Mohhamad Sadman(KSKS)\n",
       "10          Abdul Halim(KSKS)\n",
       "11          Masum Kahan(KSKS)\n",
       "12         Hasan Mahmud(KSKS)\n",
       "13         Arafat Sunny(PDSC)\n",
       "14          Sharifullah(PDSC)\n",
       "15        Mamun Hossain(PDSC)\n",
       "16      Salauddin Sakil(PDSC)\n",
       "17         Nazmul Islam(SJDC)\n",
       "18          Shohag Gazi(SJDC)\n",
       "19         Eilias Sunny(SJDC)\n",
       "20         Robiul Haque(SJDC)\n",
       "21            Abu Haider(GGC)\n",
       "22          Mahedi Islam(GGC)\n",
       "23          Nayeem Islam(GGC)\n",
       "24           Tipu Sultan(GGC)\n",
       "25             Qazi Anik(MSC)\n",
       "26          Taijul Islam(MSC)\n",
       "27          Enamul Haque(MSC)\n",
       "28         Mohammad Azim(MSC)\n",
       "29    Mohammad Saifuddin(SCC)\n",
       "30         Shuvagata Hom(SCC)\n",
       "31       Naeem Islam Jnr(SCC)\n",
       "32          Raihan Uddin(SCC)\n",
       "33        Nahidul islam(PBCC)\n",
       "34     Enamul Haque Jnr(PBCC)\n",
       "35       Shoriful Islam(PBCC)\n",
       "36       Delwar Hossain(PBCC)\n",
       "Name: Name, dtype: object"
      ]
     },
     "execution_count": 138,
     "metadata": {},
     "output_type": "execute_result"
    }
   ],
   "source": [
    "name"
   ]
  },
  {
   "cell_type": "code",
   "execution_count": 139,
   "metadata": {},
   "outputs": [],
   "source": [
    "# A new column name selected to determine if a player is selcted or not\n",
    "train['Selected'] = 1\n",
    "train.iloc[12:,-1] = 0"
   ]
  },
  {
   "cell_type": "code",
   "execution_count": 140,
   "metadata": {},
   "outputs": [
    {
     "data": {
      "text/plain": [
       "((24, 6), (24, 5))"
      ]
     },
     "execution_count": 140,
     "metadata": {},
     "output_type": "execute_result"
    }
   ],
   "source": [
    "new_train = train.iloc[:,75:]\n",
    "new_test = test.iloc[13:,75:]\n",
    "new_train.shape,new_test.shape"
   ]
  },
  {
   "cell_type": "code",
   "execution_count": 141,
   "metadata": {},
   "outputs": [],
   "source": [
    "new_train.drop(columns= ['5W' ,'3W'], inplace = True)\n",
    "new_test.drop(columns= ['5W' ,'10W'], inplace = True)"
   ]
  },
  {
   "cell_type": "code",
   "execution_count": 142,
   "metadata": {},
   "outputs": [
    {
     "data": {
      "text/html": [
       "<div>\n",
       "<style scoped>\n",
       "    .dataframe tbody tr th:only-of-type {\n",
       "        vertical-align: middle;\n",
       "    }\n",
       "\n",
       "    .dataframe tbody tr th {\n",
       "        vertical-align: top;\n",
       "    }\n",
       "\n",
       "    .dataframe thead th {\n",
       "        text-align: right;\n",
       "    }\n",
       "</style>\n",
       "<table border=\"1\" class=\"dataframe\">\n",
       "  <thead>\n",
       "    <tr style=\"text-align: right;\">\n",
       "      <th></th>\n",
       "      <th>Avg</th>\n",
       "      <th>ECO</th>\n",
       "      <th>SR</th>\n",
       "    </tr>\n",
       "  </thead>\n",
       "  <tbody>\n",
       "    <tr>\n",
       "      <th>13</th>\n",
       "      <td>30.266667</td>\n",
       "      <td>5.044444</td>\n",
       "      <td>36.000000</td>\n",
       "    </tr>\n",
       "    <tr>\n",
       "      <th>14</th>\n",
       "      <td>38.636364</td>\n",
       "      <td>5.059524</td>\n",
       "      <td>45.818182</td>\n",
       "    </tr>\n",
       "    <tr>\n",
       "      <th>15</th>\n",
       "      <td>26.333333</td>\n",
       "      <td>5.077121</td>\n",
       "      <td>31.120000</td>\n",
       "    </tr>\n",
       "    <tr>\n",
       "      <th>16</th>\n",
       "      <td>33.250000</td>\n",
       "      <td>5.115385</td>\n",
       "      <td>39.000000</td>\n",
       "    </tr>\n",
       "    <tr>\n",
       "      <th>17</th>\n",
       "      <td>26.133333</td>\n",
       "      <td>4.531792</td>\n",
       "      <td>34.600000</td>\n",
       "    </tr>\n",
       "  </tbody>\n",
       "</table>\n",
       "</div>"
      ],
      "text/plain": [
       "          Avg       ECO         SR\n",
       "13  30.266667  5.044444  36.000000\n",
       "14  38.636364  5.059524  45.818182\n",
       "15  26.333333  5.077121  31.120000\n",
       "16  33.250000  5.115385  39.000000\n",
       "17  26.133333  4.531792  34.600000"
      ]
     },
     "execution_count": 142,
     "metadata": {},
     "output_type": "execute_result"
    }
   ],
   "source": [
    "new_test.head()"
   ]
  },
  {
   "cell_type": "code",
   "execution_count": 143,
   "metadata": {},
   "outputs": [
    {
     "data": {
      "image/png": "[encoded data removed]",
      "text/plain": [
       "<Figure size 432x288 with 3 Axes>"
      ]
     },
     "metadata": {},
     "output_type": "display_data"
    }
   ],
   "source": [
    "plt.subplot(221)\n",
    "sns.distplot(new_train['Avg']);\n",
    "plt.subplot(222)\n",
    "sns.distplot(new_train['ECO']);\n",
    "plt.subplot(223)\n",
    "sns.distplot(new_train['SR']);"
   ]
  },
  {
   "cell_type": "code",
   "execution_count": 144,
   "metadata": {},
   "outputs": [
    {
     "data": {
      "text/plain": [
       "<matplotlib.axes._subplots.AxesSubplot at 0x20698f454e0>"
      ]
     },
     "execution_count": 144,
     "metadata": {},
     "output_type": "execute_result"
    },
    {
     "data": {
      "image/png": "[encoded data removed]",
      "text/plain": [
       "<Figure size 432x288 with 1 Axes>"
      ]
     },
     "metadata": {},
     "output_type": "display_data"
    }
   ],
   "source": [
    "new_train['Avg'].plot.box()\n",
    "\n"
   ]
  },
  {
   "cell_type": "code",
   "execution_count": 145,
   "metadata": {},
   "outputs": [
    {
     "data": {
      "text/plain": [
       "<matplotlib.axes._subplots.AxesSubplot at 0x20698a757b8>"
      ]
     },
     "execution_count": 145,
     "metadata": {},
     "output_type": "execute_result"
    },
    {
     "data": {
      "image/png": "[encoded data removed]",
      "text/plain": [
       "<Figure size 432x288 with 1 Axes>"
      ]
     },
     "metadata": {},
     "output_type": "display_data"
    }
   ],
   "source": [
    "new_train['ECO'].plot.box()"
   ]
  },
  {
   "cell_type": "code",
   "execution_count": 146,
   "metadata": {},
   "outputs": [
    {
     "data": {
      "text/plain": [
       "<matplotlib.axes._subplots.AxesSubplot at 0x206998e9128>"
      ]
     },
     "execution_count": 146,
     "metadata": {},
     "output_type": "execute_result"
    },
    {
     "data": {
      "image/png": "[encoded data removed]",
      "text/plain": [
       "<Figure size 432x288 with 1 Axes>"
      ]
     },
     "metadata": {},
     "output_type": "display_data"
    }
   ],
   "source": [
    "new_train['SR'].plot.box()"
   ]
  },
  {
   "cell_type": "code",
   "execution_count": 147,
   "metadata": {},
   "outputs": [
    {
     "data": {
      "text/plain": [
       "pandas.core.series.Series"
      ]
     },
     "execution_count": 147,
     "metadata": {},
     "output_type": "execute_result"
    }
   ],
   "source": [
    "\n",
    "#Separating target variable\n",
    "X = new_train.drop('Selected',1)\n",
    "y = new_train.Selected\n",
    "type(y)"
   ]
  },
  {
   "cell_type": "markdown",
   "metadata": {},
   "source": [
    "# Logistic Regression"
   ]
  },
  {
   "cell_type": "code",
   "execution_count": 148,
   "metadata": {},
   "outputs": [
    {
     "data": {
      "text/plain": [
       "LogisticRegression(C=1.0, class_weight=None, dual=False, fit_intercept=True,\n",
       "          intercept_scaling=1, max_iter=100, multi_class='ovr', n_jobs=1,\n",
       "          penalty='l2', random_state=None, solver='liblinear', tol=0.0001,\n",
       "          verbose=0, warm_start=False)"
      ]
     },
     "execution_count": 148,
     "metadata": {},
     "output_type": "execute_result"
    }
   ],
   "source": [
    "model = LogisticRegression()\n",
    "model.fit(X, y)"
   ]
  },
  {
   "cell_type": "code",
   "execution_count": 149,
   "metadata": {},
   "outputs": [],
   "source": [
    "y_test = new_train.Selected"
   ]
  },
  {
   "cell_type": "code",
   "execution_count": 150,
   "metadata": {},
   "outputs": [
    {
     "data": {
      "text/plain": [
       "(24,)"
      ]
     },
     "execution_count": 150,
     "metadata": {},
     "output_type": "execute_result"
    }
   ],
   "source": [
    "y_test.shape"
   ]
  },
  {
   "cell_type": "code",
   "execution_count": 151,
   "metadata": {},
   "outputs": [
    {
     "name": "stdout",
     "output_type": "stream",
     "text": [
      "0 . Robiul Haque(SJDC)  =  ✘\n",
      "1 . Robiul Haque(SJDC)  =  ✘\n",
      "2 . Robiul Haque(SJDC)  =  ✘\n",
      "3 . Robiul Haque(SJDC)  =  ✘\n",
      "4 . Mohhamad Shahid(LR)  = ✔\n",
      "5 . Asif Hasan(LR)  = ✔\n",
      "6 . Mosarraf Hossain(LR)  = ✔\n",
      "7 . Syed Rasel(LR)  = ✔\n",
      "8 . Tanvir Islam(KSKS)  = ✔\n",
      "9 . Mohhamad Sadman(KSKS)  = ✔\n",
      "10 . Mohhamad Sadman(KSKS)  =  ✘\n",
      "11 . Masum Kahan(KSKS)  = ✔\n",
      "12 . Hasan Mahmud(KSKS)  = ✔\n",
      "13 . Hasan Mahmud(KSKS)  =  ✘\n",
      "14 . Hasan Mahmud(KSKS)  =  ✘\n",
      "15 . Mamun Hossain(PDSC)  = ✔\n",
      "16 . Mamun Hossain(PDSC)  =  ✘\n",
      "17 . Mamun Hossain(PDSC)  =  ✘\n",
      "18 . Mamun Hossain(PDSC)  =  ✘\n",
      "19 . Mamun Hossain(PDSC)  =  ✘\n",
      "20 . Robiul Haque(SJDC)  = ✔\n",
      "21 . Robiul Haque(SJDC)  =  ✘\n",
      "22 . Robiul Haque(SJDC)  =  ✘\n",
      "23 . Robiul Haque(SJDC)  =  ✘\n"
     ]
    }
   ],
   "source": [
    "import matplotlib\n",
    "#matplotlib.use('TKAgg') # matplotlib renderer for windows\n",
    "\n",
    "import matplotlib.pyplot as pl\n",
    "pred_test = model.predict(new_test)\n",
    "#pred_test\n",
    "x = pred_test\n",
    "names=np.array(name)\n",
    "arr2=np.array(x)\n",
    "arr2\n",
    "g=len(arr2)\n",
    "counter = 0 \n",
    "while (counter < 24): \n",
    "    if arr2[counter]==1:\n",
    "        c=names[counter]\n",
    "        \n",
    "        print(counter,\".\", c, \" =\", \"✔\")\n",
    "    else:\n",
    "        \n",
    "        print(counter,\".\", c, \" = \", \"✘\")\n",
    "    counter += 1\n",
    "\n"
   ]
  },
  {
   "cell_type": "code",
   "execution_count": 152,
   "metadata": {},
   "outputs": [
    {
     "name": "stdout",
     "output_type": "stream",
     "text": [
      "True positive =  9\n",
      "False positive =  3\n",
      "False negative =  5\n",
      "True negative =  7\n"
     ]
    }
   ],
   "source": [
    "cm = confusion_matrix(y_test,pred_test)\n",
    "print('True positive = ', cm[0][0])\n",
    "print('False positive = ', cm[0][1])\n",
    "print('False negative = ', cm[1][0])\n",
    "print('True negative = ', cm[1][1])"
   ]
  },
  {
   "cell_type": "code",
   "execution_count": 153,
   "metadata": {},
   "outputs": [
    {
     "name": "stdout",
     "output_type": "stream",
     "text": [
      "Accuracy =  66.66666666666666 %\n",
      "Sensitivity =  58.333333333333336 %\n",
      "Specificity =  75.0 %\n"
     ]
    }
   ],
   "source": [
    "TN = cm[0,0]\n",
    "FP = cm[0,1]\n",
    "FN = cm[1,0]\n",
    "TP = cm[1,1]\n",
    "sensitivity_score = TP/(TP+FN)\n",
    "specificity_score = TN/(TN+FP)\n",
    "\n",
    "print(\"Accuracy = \", accuracy_score(y_test, pred_test)*100, \"%\")\n",
    "print(\"Sensitivity = \", sensitivity_score*100, \"%\")\n",
    "print(\"Specificity = \", specificity_score*100, \"%\")"
   ]
  },
  {
   "cell_type": "code",
   "execution_count": 154,
   "metadata": {},
   "outputs": [
    {
     "data": {
      "image/png": "[encoded data removed]",
      "text/plain": [
       "<Figure size 432x288 with 1 Axes>"
      ]
     },
     "metadata": {},
     "output_type": "display_data"
    },
    {
     "data": {
      "text/plain": [
       "0.6666666666666666"
      ]
     },
     "execution_count": 154,
     "metadata": {},
     "output_type": "execute_result"
    }
   ],
   "source": [
    "fpr, tpr, _ = roc_curve(y_test, pred_test)\n",
    "roc_auc = auc(fpr, tpr)\n",
    "plt.title('Receiver Operating Characteristic')\n",
    "plt.plot(fpr, tpr, 'b', label = 'AUC = %0.2f' % roc_auc)\n",
    "plt.legend(loc = 'lower right')\n",
    "plt.plot([0, 1], [0, 1],'r--')\n",
    "plt.xlim([0, 1])\n",
    "plt.ylim([0, 1])\n",
    "plt.ylabel('True Positive Rate')\n",
    "plt.xlabel('False Positive Rate')\n",
    "plt.show()\n",
    "roc_auc"
   ]
  },
  {
   "cell_type": "markdown",
   "metadata": {},
   "source": [
    "# SVM"
   ]
  },
  {
   "cell_type": "code",
   "execution_count": 155,
   "metadata": {},
   "outputs": [
    {
     "data": {
      "text/plain": [
       "SVC(C=1.0, cache_size=200, class_weight=None, coef0=0.0,\n",
       "  decision_function_shape='ovr', degree=3, gamma='auto', kernel='linear',\n",
       "  max_iter=-1, probability=False, random_state=None, shrinking=True,\n",
       "  tol=0.001, verbose=False)"
      ]
     },
     "execution_count": 155,
     "metadata": {},
     "output_type": "execute_result"
    }
   ],
   "source": [
    "svclassifier = SVC(kernel='linear')  \n",
    "svclassifier.fit(X, y)  "
   ]
  },
  {
   "cell_type": "code",
   "execution_count": 158,
   "metadata": {},
   "outputs": [
    {
     "name": "stdout",
     "output_type": "stream",
     "text": [
      "0 . Robiul Haque(SJDC)  =  ✘\n",
      "1 . Robiul Haque(SJDC)  =  ✘\n",
      "2 . Robiul Haque(SJDC)  =  ✘\n",
      "3 . Robiul Haque(SJDC)  =  ✘\n",
      "4 . Mohhamad Shahid(LR)  = ✔\n",
      "5 . Asif Hasan(LR)  = ✔\n",
      "6 . Mosarraf Hossain(LR)  = ✔\n",
      "7 . Syed Rasel(LR)  = ✔\n",
      "8 . Tanvir Islam(KSKS)  = ✔\n",
      "9 . Mohhamad Sadman(KSKS)  = ✔\n",
      "10 . Mohhamad Sadman(KSKS)  =  ✘\n",
      "11 . Masum Kahan(KSKS)  = ✔\n",
      "12 . Hasan Mahmud(KSKS)  = ✔\n",
      "13 . Hasan Mahmud(KSKS)  =  ✘\n",
      "14 . Hasan Mahmud(KSKS)  =  ✘\n",
      "15 . Mamun Hossain(PDSC)  = ✔\n",
      "16 . Mamun Hossain(PDSC)  =  ✘\n",
      "17 . Mamun Hossain(PDSC)  =  ✘\n",
      "18 . Mamun Hossain(PDSC)  =  ✘\n",
      "19 . Mamun Hossain(PDSC)  =  ✘\n",
      "20 . Robiul Haque(SJDC)  = ✔\n",
      "21 . Robiul Haque(SJDC)  =  ✘\n",
      "22 . Robiul Haque(SJDC)  =  ✘\n",
      "23 . Robiul Haque(SJDC)  =  ✘\n"
     ]
    }
   ],
   "source": [
    "import matplotlib\n",
    "#matplotlib.use('TKAgg') # matplotlib renderer for windows\n",
    "\n",
    "import matplotlib.pyplot as pl\n",
    "pred_test = model.predict(new_test)\n",
    "#pred_test\n",
    "x = pred_test\n",
    "names=np.array(name)\n",
    "arr2=np.array(x)\n",
    "arr2\n",
    "g=len(arr2)\n",
    "counter = 0 \n",
    "while (counter < 24): \n",
    "    if arr2[counter]==1:\n",
    "        c=names[counter]\n",
    "        \n",
    "        print(counter,\".\", c, \" =\", \"✔\")\n",
    "    else:\n",
    "        \n",
    "        print(counter,\".\", c, \" = \", \"✘\")\n",
    "    counter += 1"
   ]
  },
  {
   "cell_type": "code",
   "execution_count": 157,
   "metadata": {
    "scrolled": true
   },
   "outputs": [
    {
     "name": "stdout",
     "output_type": "stream",
     "text": [
      "True positive =  9\n",
      "False positive =  3\n",
      "False negative =  4\n",
      "True negative =  8\n",
      "Accuracy =  70.83333333333334 %\n",
      "Sensitivity =  66.66666666666666 %\n",
      "Specificity =  75.0 %\n"
     ]
    }
   ],
   "source": [
    "cm = confusion_matrix(y_test,pred_test)\n",
    "print('True positive = ', cm[0][0])\n",
    "print('False positive = ', cm[0][1])\n",
    "print('False negative = ', cm[1][0])\n",
    "print('True negative = ', cm[1][1])\n",
    "TN = cm[0,0]\n",
    "FP = cm[0,1]\n",
    "FN = cm[1,0]\n",
    "TP = cm[1,1]\n",
    "sensitivity_score = TP/(TP+FN)\n",
    "specificity_score = TN/(TN+FP)\n",
    "print(\"Accuracy = \", accuracy_score(y_test, pred_test)*100, \"%\")\n",
    "print(\"Sensitivity = \", sensitivity_score*100, \"%\")\n",
    "print(\"Specificity = \", specificity_score*100, \"%\")\n",
    "  "
   ]
  },
  {
   "cell_type": "code",
   "execution_count": 159,
   "metadata": {},
   "outputs": [
    {
     "data": {
      "image/png": "[encoded data removed]",
      "text/plain": [
       "<Figure size 432x288 with 1 Axes>"
      ]
     },
     "metadata": {},
     "output_type": "display_data"
    },
    {
     "data": {
      "text/plain": [
       "0.6666666666666666"
      ]
     },
     "execution_count": 159,
     "metadata": {},
     "output_type": "execute_result"
    }
   ],
   "source": [
    "fpr, tpr, _ = roc_curve(y_test, pred_test)\n",
    "roc_auc = auc(fpr, tpr)\n",
    "plt.title('Receiver Operating Characteristic')\n",
    "plt.plot(fpr, tpr, 'b', label = 'AUC = %0.2f' % roc_auc)\n",
    "plt.legend(loc = 'lower right')\n",
    "plt.plot([0, 1], [0, 1],'r--')\n",
    "plt.xlim([0, 1])\n",
    "plt.ylim([0, 1])\n",
    "plt.ylabel('True Positive Rate')\n",
    "plt.xlabel('False Positive Rate')\n",
    "plt.show()\n",
    "roc_auc"
   ]
  },
  {
   "cell_type": "markdown",
   "metadata": {},
   "source": [
    "# Decision Tree"
   ]
  },
  {
   "cell_type": "code",
   "execution_count": 160,
   "metadata": {},
   "outputs": [],
   "source": [
    "from sklearn.tree import DecisionTreeClassifier\n",
    "dt = DecisionTreeClassifier(random_state=2) \n",
    "dt.fit(X, y)  \n",
    "pred_test = dt.predict(new_test)"
   ]
  },
  {
   "cell_type": "code",
   "execution_count": 161,
   "metadata": {},
   "outputs": [
    {
     "name": "stdout",
     "output_type": "stream",
     "text": [
      "True positive =  8\n",
      "False positive =  4\n",
      "False negative =  7\n",
      "True negative =  5\n",
      "Accuracy =  54.166666666666664 %\n",
      "Sensitivity =  41.66666666666667 %\n",
      "Specificity =  66.66666666666666 %\n"
     ]
    },
    {
     "data": {
      "image/png": "[encoded data removed]",
      "text/plain": [
       "<Figure size 432x288 with 1 Axes>"
      ]
     },
     "metadata": {},
     "output_type": "display_data"
    },
    {
     "data": {
      "text/plain": [
       "0.5416666666666667"
      ]
     },
     "execution_count": 161,
     "metadata": {},
     "output_type": "execute_result"
    }
   ],
   "source": [
    "cm = confusion_matrix(y_test,pred_test)\n",
    "print('True positive = ', cm[0][0])\n",
    "print('False positive = ', cm[0][1])\n",
    "print('False negative = ', cm[1][0])\n",
    "print('True negative = ', cm[1][1])\n",
    "TN = cm[0,0]\n",
    "FP = cm[0,1]\n",
    "FN = cm[1,0]\n",
    "TP = cm[1,1]\n",
    "sensitivity_score = TP/(TP+FN)\n",
    "specificity_score = TN/(TN+FP)\n",
    "print(\"Accuracy = \", accuracy_score(y_test, pred_test)*100, \"%\")\n",
    "print(\"Sensitivity = \", sensitivity_score*100, \"%\")\n",
    "print(\"Specificity = \", specificity_score*100, \"%\")\n",
    "\n",
    "\n",
    "fpr, tpr, _ = roc_curve(y_test, pred_test)\n",
    "roc_auc = auc(fpr, tpr)\n",
    "plt.title('Receiver Operating Characteristic')\n",
    "plt.plot(fpr, tpr, 'b', label = 'AUC = %0.2f' % roc_auc)\n",
    "plt.legend(loc = 'lower right')\n",
    "plt.plot([0, 1], [0, 1],'r--')\n",
    "plt.xlim([0, 1])\n",
    "plt.ylim([0, 1])\n",
    "plt.ylabel('True Positive Rate')\n",
    "plt.xlabel('False Positive Rate')\n",
    "plt.show()\n",
    "roc_auc"
   ]
  },
  {
   "cell_type": "markdown",
   "metadata": {},
   "source": [
    "# Naive Bayes"
   ]
  },
  {
   "cell_type": "code",
   "execution_count": 162,
   "metadata": {},
   "outputs": [],
   "source": [
    "from sklearn.naive_bayes import GaussianNB\n",
    "dt = GaussianNB()  \n",
    "dt.fit(X, y)  \n",
    "pred_test = dt.predict(new_test) "
   ]
  },
  {
   "cell_type": "code",
   "execution_count": 163,
   "metadata": {},
   "outputs": [
    {
     "name": "stdout",
     "output_type": "stream",
     "text": [
      "True positive =  8\n",
      "False positive =  4\n",
      "False negative =  3\n",
      "True negative =  9\n",
      "Accuracy =  70.83333333333334 %\n",
      "Sensitivity =  75.0 %\n",
      "Specificity =  66.66666666666666 %\n"
     ]
    },
    {
     "data": {
      "image/png": "[encoded data removed]",
      "text/plain": [
       "<Figure size 432x288 with 1 Axes>"
      ]
     },
     "metadata": {},
     "output_type": "display_data"
    },
    {
     "data": {
      "text/plain": [
       "0.7083333333333334"
      ]
     },
     "execution_count": 163,
     "metadata": {},
     "output_type": "execute_result"
    }
   ],
   "source": [
    "cm = confusion_matrix(y_test,pred_test)\n",
    "print('True positive = ', cm[0][0])\n",
    "print('False positive = ', cm[0][1])\n",
    "print('False negative = ', cm[1][0])\n",
    "print('True negative = ', cm[1][1])\n",
    "TN = cm[0,0]\n",
    "FP = cm[0,1]\n",
    "FN = cm[1,0]\n",
    "TP = cm[1,1]\n",
    "sensitivity_score = TP/(TP+FN)\n",
    "specificity_score = TN/(TN+FP)\n",
    "print(\"Accuracy = \", accuracy_score(y_test, pred_test)*100, \"%\")\n",
    "print(\"Sensitivity = \", sensitivity_score*100, \"%\")\n",
    "print(\"Specificity = \", specificity_score*100, \"%\")\n",
    "\n",
    "\n",
    "fpr, tpr, _ = roc_curve(y_test, pred_test)\n",
    "roc_auc = auc(fpr, tpr)\n",
    "plt.title('Receiver Operating Characteristic')\n",
    "plt.plot(fpr, tpr, 'b', label = 'AUC = %0.2f' % roc_auc)\n",
    "plt.legend(loc = 'lower right')\n",
    "plt.plot([0, 1], [0, 1],'r--')\n",
    "plt.xlim([0, 1])\n",
    "plt.ylim([0, 1])\n",
    "plt.ylabel('True Positive Rate')\n",
    "plt.xlabel('False Positive Rate')\n",
    "plt.show()\n",
    "roc_auc"
   ]
  }
 ],
 "metadata": {
  "kernelspec": {
   "display_name": "Python 3",
   "language": "python",
   "name": "python3"
  },
  "language_info": {
   "codemirror_mode": {
    "name": "ipython",
    "version": 3
   },
   "file_extension": ".py",
   "mimetype": "text/x-python",
   "name": "python",
   "nbconvert_exporter": "python",
   "pygments_lexer": "ipython3",
   "version": "3.6.5"
  }
 },
 "nbformat": 4,
 "nbformat_minor": 2
}
